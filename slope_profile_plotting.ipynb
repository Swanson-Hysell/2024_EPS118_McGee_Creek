{
 "cells": [
  {
   "cell_type": "markdown",
   "id": "1575a00f-559b-4112-b1cb-a18133a77e39",
   "metadata": {},
   "source": [
    "# Slope profile plotting\n",
    "\n",
    "This notebook enables the plotting of data from a slope survey. It was developed for the McGee Creek module of EPS 118."
   ]
  },
  {
   "cell_type": "markdown",
   "id": "b2b8a2d5",
   "metadata": {},
   "source": [
    "## Import scientific Python packages\n",
    "\n",
    "```matplotlib``` will help us make plots. ```pandas``` will help us import and manipulate data. ```numpy``` will help us make calculations."
   ]
  },
  {
   "cell_type": "code",
   "execution_count": 1,
   "id": "c833caa9-e2ee-40dc-a2c4-483742b5beb3",
   "metadata": {},
   "outputs": [],
   "source": [
    "import matplotlib.pyplot as plt\n",
    "import pandas as pd\n",
    "import numpy as np"
   ]
  },
  {
   "cell_type": "markdown",
   "id": "277439dd-540c-45a3-9d79-83156920416d",
   "metadata": {},
   "source": [
    "## Import slope data\n",
    "\n",
    "These data should be a `.csv` file with the following columns (per the field guide).\n",
    "\n",
    "| STA | EL (m) | L (m) | Δz (m) | ΔL (m) | Δx (m) | L_x (m) |\n",
    "|-----|----|---|-----------|-----------|-----------|-------|\n",
    "\n",
    "If the column names are exactly like these ones, the code below will run. If not, you will need to make some adjustments to match your column names associated with these columns.\n",
    "\n",
    "Put the .csv file in the data folder and change the name below to match the name of your file."
   ]
  },
  {
   "cell_type": "code",
   "execution_count": 2,
   "id": "c7d60a93-1071-48b3-83ff-41a740b182bb",
   "metadata": {},
   "outputs": [
    {
     "data": {
      "text/html": [
       "<div>\n",
       "<style scoped>\n",
       "    .dataframe tbody tr th:only-of-type {\n",
       "        vertical-align: middle;\n",
       "    }\n",
       "\n",
       "    .dataframe tbody tr th {\n",
       "        vertical-align: top;\n",
       "    }\n",
       "\n",
       "    .dataframe thead th {\n",
       "        text-align: right;\n",
       "    }\n",
       "</style>\n",
       "<table border=\"1\" class=\"dataframe\">\n",
       "  <thead>\n",
       "    <tr style=\"text-align: right;\">\n",
       "      <th></th>\n",
       "      <th>EL (m)</th>\n",
       "      <th>L (m)</th>\n",
       "      <th>Δz (m)</th>\n",
       "      <th>ΔL (m)</th>\n",
       "      <th>Δx (m)</th>\n",
       "      <th>L_x (m)</th>\n",
       "    </tr>\n",
       "  </thead>\n",
       "  <tbody>\n",
       "    <tr>\n",
       "      <th>0</th>\n",
       "      <td>100.00</td>\n",
       "      <td>0.0</td>\n",
       "      <td>NaN</td>\n",
       "      <td>NaN</td>\n",
       "      <td>NaN</td>\n",
       "      <td>0.000000</td>\n",
       "    </tr>\n",
       "    <tr>\n",
       "      <th>1</th>\n",
       "      <td>99.45</td>\n",
       "      <td>5.0</td>\n",
       "      <td>0.55</td>\n",
       "      <td>5.0</td>\n",
       "      <td>4.969658</td>\n",
       "      <td>4.969658</td>\n",
       "    </tr>\n",
       "    <tr>\n",
       "      <th>2</th>\n",
       "      <td>99.15</td>\n",
       "      <td>8.0</td>\n",
       "      <td>0.30</td>\n",
       "      <td>3.0</td>\n",
       "      <td>2.984962</td>\n",
       "      <td>7.954620</td>\n",
       "    </tr>\n",
       "    <tr>\n",
       "      <th>3</th>\n",
       "      <td>98.95</td>\n",
       "      <td>11.0</td>\n",
       "      <td>0.20</td>\n",
       "      <td>3.0</td>\n",
       "      <td>2.993326</td>\n",
       "      <td>10.947946</td>\n",
       "    </tr>\n",
       "    <tr>\n",
       "      <th>4</th>\n",
       "      <td>98.65</td>\n",
       "      <td>15.5</td>\n",
       "      <td>0.30</td>\n",
       "      <td>4.5</td>\n",
       "      <td>4.489989</td>\n",
       "      <td>15.437935</td>\n",
       "    </tr>\n",
       "    <tr>\n",
       "      <th>...</th>\n",
       "      <td>...</td>\n",
       "      <td>...</td>\n",
       "      <td>...</td>\n",
       "      <td>...</td>\n",
       "      <td>...</td>\n",
       "      <td>...</td>\n",
       "    </tr>\n",
       "    <tr>\n",
       "      <th>117</th>\n",
       "      <td>65.60</td>\n",
       "      <td>281.0</td>\n",
       "      <td>-0.50</td>\n",
       "      <td>6.0</td>\n",
       "      <td>5.979130</td>\n",
       "      <td>272.459928</td>\n",
       "    </tr>\n",
       "    <tr>\n",
       "      <th>118</th>\n",
       "      <td>65.50</td>\n",
       "      <td>285.0</td>\n",
       "      <td>0.10</td>\n",
       "      <td>4.0</td>\n",
       "      <td>3.998750</td>\n",
       "      <td>276.458678</td>\n",
       "    </tr>\n",
       "    <tr>\n",
       "      <th>119</th>\n",
       "      <td>65.30</td>\n",
       "      <td>290.0</td>\n",
       "      <td>0.20</td>\n",
       "      <td>5.0</td>\n",
       "      <td>4.995998</td>\n",
       "      <td>281.454676</td>\n",
       "    </tr>\n",
       "    <tr>\n",
       "      <th>120</th>\n",
       "      <td>65.00</td>\n",
       "      <td>295.0</td>\n",
       "      <td>0.30</td>\n",
       "      <td>5.0</td>\n",
       "      <td>4.990992</td>\n",
       "      <td>286.445668</td>\n",
       "    </tr>\n",
       "    <tr>\n",
       "      <th>121</th>\n",
       "      <td>64.50</td>\n",
       "      <td>300.0</td>\n",
       "      <td>0.50</td>\n",
       "      <td>5.0</td>\n",
       "      <td>4.974937</td>\n",
       "      <td>291.420606</td>\n",
       "    </tr>\n",
       "  </tbody>\n",
       "</table>\n",
       "<p>122 rows × 6 columns</p>\n",
       "</div>"
      ],
      "text/plain": [
       "     EL (m)  L (m)  Δz (m)  ΔL (m)    Δx (m)     L_x (m)\n",
       "0    100.00    0.0     NaN     NaN       NaN    0.000000\n",
       "1     99.45    5.0    0.55     5.0  4.969658    4.969658\n",
       "2     99.15    8.0    0.30     3.0  2.984962    7.954620\n",
       "3     98.95   11.0    0.20     3.0  2.993326   10.947946\n",
       "4     98.65   15.5    0.30     4.5  4.489989   15.437935\n",
       "..      ...    ...     ...     ...       ...         ...\n",
       "117   65.60  281.0   -0.50     6.0  5.979130  272.459928\n",
       "118   65.50  285.0    0.10     4.0  3.998750  276.458678\n",
       "119   65.30  290.0    0.20     5.0  4.995998  281.454676\n",
       "120   65.00  295.0    0.30     5.0  4.990992  286.445668\n",
       "121   64.50  300.0    0.50     5.0  4.974937  291.420606\n",
       "\n",
       "[122 rows x 6 columns]"
      ]
     },
     "execution_count": 2,
     "metadata": {},
     "output_type": "execute_result"
    }
   ],
   "source": [
    "slope_profile = pd.read_csv('./data/example_slope_survey.csv')\n",
    "slope_profile"
   ]
  },
  {
   "cell_type": "markdown",
   "id": "16bb63ee-5455-4c5b-8acd-68bd00030eb9",
   "metadata": {},
   "source": [
    "Adjust the elevation of the topographic profile to match the true elevation of the benchmark."
   ]
  },
  {
   "cell_type": "code",
   "execution_count": 3,
   "id": "c364fe0a-9a9f-414a-af47-74e73f8c8588",
   "metadata": {},
   "outputs": [],
   "source": [
    "true_benchmark_elevation = 2289 #change to match your benchmark\n",
    "slope_profile['EL (m)'] = slope_profile['EL (m)'] + true_benchmark_elevation"
   ]
  },
  {
   "cell_type": "markdown",
   "id": "c9f216b7-b9af-439a-b503-a16bcfe4dbca",
   "metadata": {},
   "source": [
    "## Plot slope data"
   ]
  },
  {
   "cell_type": "code",
   "execution_count": 4,
   "id": "84951d20-04c1-4d6f-a8a3-2531aff4a8b5",
   "metadata": {},
   "outputs": [
    {
     "data": {
      "image/png": "[encoded data removed]",
      "text/plain": [
       "<Figure size 640x480 with 1 Axes>"
      ]
     },
     "metadata": {},
     "output_type": "display_data"
    }
   ],
   "source": [
    "plt.scatter(slope_profile['L_x (m)'], slope_profile['EL (m)'])\n",
    "plt.xlabel('horizontal distance (m)')\n",
    "plt.ylabel('elevation (m)')\n",
    "plt.show()"
   ]
  },
  {
   "cell_type": "markdown",
   "id": "90164839-cb46-4959-b014-f340aa7069dc",
   "metadata": {},
   "source": [
    "Scale the plot so that the axes are of equal scaling."
   ]
  },
  {
   "cell_type": "code",
   "execution_count": 5,
   "id": "15323c47-a40b-4d69-b086-e2a19d15d5dd",
   "metadata": {},
   "outputs": [
    {
     "data": {
      "image/png": "[encoded data removed]",
      "text/plain": [
       "<Figure size 1500x1500 with 1 Axes>"
      ]
     },
     "metadata": {},
     "output_type": "display_data"
    }
   ],
   "source": [
    "plt.figure(figsize=(15,15))\n",
    "plt.scatter(slope_profile['L_x (m)'], slope_profile['EL (m)'])\n",
    "plt.xlabel('horizontal distance (m)')\n",
    "plt.ylabel('elevation (m)')\n",
    "plt.axis('scaled')\n",
    "plt.show()"
   ]
  },
  {
   "cell_type": "markdown",
   "id": "00cb8f04-59dc-4c56-b232-e9a66377a961",
   "metadata": {},
   "source": [
    "**To do:**\n",
    "\n",
    "Extract the hillslope profile from the LiDAR DEM (named output_be in our files from here: https://portal.opentopography.org/datasetMetadata?otCollectionID=OT.092019.26911.1) along the same profile with the same start point as your measured profile. You can use the Profile plugin or the qProg plugin in QGIS to get this profile. Import this profile:"
   ]
  },
  {
   "cell_type": "code",
   "execution_count": null,
   "id": "13a390cc-8ed6-410b-9064-8c667bf2f787",
   "metadata": {},
   "outputs": [],
   "source": []
  },
  {
   "cell_type": "markdown",
   "id": "596804ee-a9f2-42b0-af52-a6a2c7d988e0",
   "metadata": {},
   "source": [
    "Plot the DEM along with your profile."
   ]
  },
  {
   "cell_type": "code",
   "execution_count": null,
   "id": "8fbac170-34a7-4615-ab73-e6deea9182cb",
   "metadata": {},
   "outputs": [],
   "source": []
  }
 ],
 "metadata": {
  "kernelspec": {
   "display_name": "Python 3 (ipykernel)",
   "language": "python",
   "name": "python3"
  },
  "language_info": {
   "codemirror_mode": {
    "name": "ipython",
    "version": 3
   },
   "file_extension": ".py",
   "mimetype": "text/x-python",
   "name": "python",
   "nbconvert_exporter": "python",
   "pygments_lexer": "ipython3",
   "version": "3.9.13"
  }
 },
 "nbformat": 4,
 "nbformat_minor": 5
}
