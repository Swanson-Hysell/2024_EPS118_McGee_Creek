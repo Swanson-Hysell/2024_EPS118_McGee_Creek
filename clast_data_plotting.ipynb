{
 "cells": [
  {
   "cell_type": "markdown",
   "id": "572085d8-eb77-48af-8772-1ec880e7e2fc",
   "metadata": {},
   "source": [
    "# Importing data with pandas and plotting it using matplotlib (a clast count example)"
   ]
  },
  {
   "cell_type": "markdown",
   "id": "81d09524-3fb3-4e2b-9911-46c763fa387e",
   "metadata": {},
   "source": [
    "## Import function libraries\n",
    "\n",
    "In order to use the functions associated with matplotlib and pandas, we need to import them which is done in the code cell below. The convention is to import them using shortened code names (e.g. pd for pandas; plt for matplotlib.pyplot).\n",
    "\n",
    "```pandas``` is a widely used data analysis library that has tools for importing and manipulating data. The central component of pandas is the DataFrame object which is an indexed tabular data structure.\n",
    "\n",
    "```matplotlib``` is a widely used library that enables data visualization (it makes plots).\n",
    "\n",
    "```sns``` is a Python data visualization library built on top of matplotlib that provides shortcuts to make nice looking and informative statistical graphics from pandas DataFrames. https://seaborn.pydata.org/examples/index.html"
   ]
  },
  {
   "cell_type": "code",
   "execution_count": 1,
   "id": "874b79e4-9c54-47d8-928a-fa69b138963f",
   "metadata": {},
   "outputs": [],
   "source": [
    "import matplotlib.pyplot as plt\n",
    "import pandas as pd\n",
    "pd.options.mode.chained_assignment = None\n",
    "import seaborn as sns\n",
    "import numpy as np\n",
    "from scipy.stats import ks_2samp"
   ]
  },
  {
   "cell_type": "markdown",
   "id": "4a6ed867-1da2-4a10-80c3-311d71431e58",
   "metadata": {},
   "source": [
    "## Import our data\n",
    "\n",
    "Our clast data is currently within a Google Sheet. We can specify the sheet_id and read in the data directly from Google Sheets. Note that the sheet name can not have any spaces in it (as urls can not have spaces; although spaces can be specified with %20). The code cell below creates a url that points to our Google sheet."
   ]
  },
  {
   "cell_type": "code",
   "execution_count": 2,
   "id": "f7d6f09f-9cda-4856-a77e-e37f5481a279",
   "metadata": {},
   "outputs": [
    {
     "name": "stdout",
     "output_type": "stream",
     "text": [
      "https://docs.google.com/spreadsheets/d/1AzWK9z--mBC0JONk-sZ0wTZwc83oNqbGtiug3i1qsG0/gviz/tq?tqx=out:csv&sheet=protrusions\n"
     ]
    }
   ],
   "source": [
    "sheet_id = '1AzWK9z--mBC0JONk-sZ0wTZwc83oNqbGtiug3i1qsG0'\n",
    "sheet_name = 'protrusions'\n",
    "protrusion_url = f'https://docs.google.com/spreadsheets/d/{sheet_id}/gviz/tq?tqx=out:csv&sheet={sheet_name}'\n",
    "print(protrusion_url)"
   ]
  },
  {
   "cell_type": "markdown",
   "id": "1ee23f13-6182-4d3d-a90c-e79f46dab169",
   "metadata": {},
   "source": [
    "Now that the url is specified, we can read the data and import it as a pandas dataframe with the code ```pd.read_csv(url)```. We will create a dataframe with the name diorite_protrusions. The Jupyter notebook will show us the header (first 5 rows) and the footer (last 5 rows) of the dataframe>"
   ]
  },
  {
   "cell_type": "code",
   "execution_count": 3,
   "id": "7d046d94-5ac1-4e50-bab1-637c06cb1665",
   "metadata": {},
   "outputs": [
    {
     "data": {
      "text/html": [
       "<div>\n",
       "<style scoped>\n",
       "    .dataframe tbody tr th:only-of-type {\n",
       "        vertical-align: middle;\n",
       "    }\n",
       "\n",
       "    .dataframe tbody tr th {\n",
       "        vertical-align: top;\n",
       "    }\n",
       "\n",
       "    .dataframe thead th {\n",
       "        text-align: right;\n",
       "    }\n",
       "</style>\n",
       "<table border=\"1\" class=\"dataframe\">\n",
       "  <thead>\n",
       "    <tr style=\"text-align: right;\">\n",
       "      <th></th>\n",
       "      <th>team name</th>\n",
       "      <th>moraine</th>\n",
       "      <th>protrusion depth (cm)</th>\n",
       "    </tr>\n",
       "  </thead>\n",
       "  <tbody>\n",
       "    <tr>\n",
       "      <th>0</th>\n",
       "      <td>Leah</td>\n",
       "      <td>older</td>\n",
       "      <td>1.1</td>\n",
       "    </tr>\n",
       "    <tr>\n",
       "      <th>1</th>\n",
       "      <td>Leah</td>\n",
       "      <td>older</td>\n",
       "      <td>3.0</td>\n",
       "    </tr>\n",
       "    <tr>\n",
       "      <th>2</th>\n",
       "      <td>Leah</td>\n",
       "      <td>older</td>\n",
       "      <td>2.0</td>\n",
       "    </tr>\n",
       "    <tr>\n",
       "      <th>3</th>\n",
       "      <td>Leah</td>\n",
       "      <td>older</td>\n",
       "      <td>5.0</td>\n",
       "    </tr>\n",
       "    <tr>\n",
       "      <th>4</th>\n",
       "      <td>Leah</td>\n",
       "      <td>younger</td>\n",
       "      <td>0.2</td>\n",
       "    </tr>\n",
       "    <tr>\n",
       "      <th>...</th>\n",
       "      <td>...</td>\n",
       "      <td>...</td>\n",
       "      <td>...</td>\n",
       "    </tr>\n",
       "    <tr>\n",
       "      <th>210</th>\n",
       "      <td>Fault</td>\n",
       "      <td>younger</td>\n",
       "      <td>NaN</td>\n",
       "    </tr>\n",
       "    <tr>\n",
       "      <th>211</th>\n",
       "      <td>Fault</td>\n",
       "      <td>younger</td>\n",
       "      <td>NaN</td>\n",
       "    </tr>\n",
       "    <tr>\n",
       "      <th>212</th>\n",
       "      <td>Fault</td>\n",
       "      <td>younger</td>\n",
       "      <td>NaN</td>\n",
       "    </tr>\n",
       "    <tr>\n",
       "      <th>213</th>\n",
       "      <td>Fault</td>\n",
       "      <td>younger</td>\n",
       "      <td>NaN</td>\n",
       "    </tr>\n",
       "    <tr>\n",
       "      <th>214</th>\n",
       "      <td>Fault</td>\n",
       "      <td>younger</td>\n",
       "      <td>NaN</td>\n",
       "    </tr>\n",
       "  </tbody>\n",
       "</table>\n",
       "<p>215 rows × 3 columns</p>\n",
       "</div>"
      ],
      "text/plain": [
       "    team name  moraine  protrusion depth (cm)\n",
       "0        Leah    older                    1.1\n",
       "1        Leah    older                    3.0\n",
       "2        Leah    older                    2.0\n",
       "3        Leah    older                    5.0\n",
       "4        Leah  younger                    0.2\n",
       "..        ...      ...                    ...\n",
       "210    Fault   younger                    NaN\n",
       "211    Fault   younger                    NaN\n",
       "212    Fault   younger                    NaN\n",
       "213    Fault   younger                    NaN\n",
       "214    Fault   younger                    NaN\n",
       "\n",
       "[215 rows x 3 columns]"
      ]
     },
     "execution_count": 3,
     "metadata": {},
     "output_type": "execute_result"
    }
   ],
   "source": [
    "diorite_protrusions = pd.read_csv(protrusion_url)\n",
    "diorite_protrusions"
   ]
  },
  {
   "cell_type": "markdown",
   "id": "33ec2ef6-a2d1-4c81-8868-0b900af882e9",
   "metadata": {},
   "source": [
    "## Summarize our data"
   ]
  },
  {
   "cell_type": "markdown",
   "id": "45b7f71e-94c8-4519-9792-bf86bd96d77b",
   "metadata": {},
   "source": [
    "Each pandas dataframe column can be referred to by using the syntax:\n",
    "\n",
    "```data_frame_name['column_name']```"
   ]
  },
  {
   "cell_type": "code",
   "execution_count": 4,
   "id": "8f07ceeb-5bfd-43cf-bded-f365e1cac300",
   "metadata": {},
   "outputs": [
    {
     "data": {
      "text/plain": [
       "0      1.1\n",
       "1      3.0\n",
       "2      2.0\n",
       "3      5.0\n",
       "4      0.2\n",
       "      ... \n",
       "210    NaN\n",
       "211    NaN\n",
       "212    NaN\n",
       "213    NaN\n",
       "214    NaN\n",
       "Name: protrusion depth (cm), Length: 215, dtype: float64"
      ]
     },
     "execution_count": 4,
     "metadata": {},
     "output_type": "execute_result"
    }
   ],
   "source": [
    " diorite_protrusions['protrusion depth (cm)']"
   ]
  },
  {
   "cell_type": "markdown",
   "id": "3b32676a",
   "metadata": {},
   "source": [
    "In addition, pandas will summarize the data if we apply the function ```.describe()``` to our column of data.\n",
    "\n",
    "Let's get the summary statistics associated with the data in the ```'protrusion depth (cm)'``` column. We will see the count, the mean, and other statistics such as the 25, 50, and 75 percentiles."
   ]
  },
  {
   "cell_type": "code",
   "execution_count": 5,
   "id": "d83a8174-c870-403e-928a-5592a659e960",
   "metadata": {},
   "outputs": [
    {
     "data": {
      "text/plain": [
       "count    174.000000\n",
       "mean       3.213793\n",
       "std        2.934770\n",
       "min        0.000000\n",
       "25%        1.000000\n",
       "50%        2.100000\n",
       "75%        4.650000\n",
       "max       14.000000\n",
       "Name: protrusion depth (cm), dtype: float64"
      ]
     },
     "execution_count": 5,
     "metadata": {},
     "output_type": "execute_result"
    }
   ],
   "source": [
    " diorite_protrusions['protrusion depth (cm)'].describe(include='all')"
   ]
  },
  {
   "cell_type": "markdown",
   "id": "14dc8b2b-9767-4846-ab5d-ff76cef3dfc8",
   "metadata": {},
   "source": [
    "We want to be able make a comparison between the diorite protrusion length in the younger moraine vs. the older moraine. Pandas provides ways to filter data. There is a column called ```moraine```. We can say that we just want to see the rows of the dataframe where 'younger' is the value in the  ```moraine``` column and call that ```diorite_young``` and vice versa for ```diorite_old```."
   ]
  },
  {
   "cell_type": "code",
   "execution_count": 6,
   "id": "184a3718-3806-40ef-8f76-700e37410b2e",
   "metadata": {},
   "outputs": [],
   "source": [
    "diorite_young = diorite_protrusions[diorite_protrusions['moraine'] == 'younger']\n",
    "diorite_old = diorite_protrusions[diorite_protrusions['moraine'] == 'older']"
   ]
  },
  {
   "cell_type": "markdown",
   "id": "9bdfa3c1-2ba8-4abd-969c-017998b7dfc7",
   "metadata": {},
   "source": [
    "We can now calculate the summary statistics for young and then old"
   ]
  },
  {
   "cell_type": "code",
   "execution_count": 7,
   "id": "6cca190c-36e4-4aec-aa0d-295662132e7e",
   "metadata": {},
   "outputs": [
    {
     "data": {
      "text/plain": [
       "count    90.000000\n",
       "mean      1.521111\n",
       "std       1.355015\n",
       "min       0.000000\n",
       "25%       0.700000\n",
       "50%       1.000000\n",
       "75%       1.800000\n",
       "max       7.000000\n",
       "Name: protrusion depth (cm), dtype: float64"
      ]
     },
     "execution_count": 7,
     "metadata": {},
     "output_type": "execute_result"
    }
   ],
   "source": [
    "diorite_young['protrusion depth (cm)'].describe(include='all')"
   ]
  },
  {
   "cell_type": "code",
   "execution_count": 8,
   "id": "18451857-51e2-462b-ba8d-23b16170f8a5",
   "metadata": {},
   "outputs": [
    {
     "data": {
      "text/plain": [
       "count    84.000000\n",
       "mean      5.027381\n",
       "std       3.089951\n",
       "min       0.300000\n",
       "25%       2.500000\n",
       "50%       4.450000\n",
       "75%       6.475000\n",
       "max      14.000000\n",
       "Name: protrusion depth (cm), dtype: float64"
      ]
     },
     "execution_count": 8,
     "metadata": {},
     "output_type": "execute_result"
    }
   ],
   "source": [
    "diorite_old['protrusion depth (cm)'].describe(include='all')"
   ]
  },
  {
   "cell_type": "markdown",
   "id": "c55c3c90-2b1d-447a-ba9f-849043322274",
   "metadata": {},
   "source": [
    "## Visualize our data"
   ]
  },
  {
   "cell_type": "markdown",
   "id": "092784d1-ce29-4ec6-a9f5-4fbfdb27670f",
   "metadata": {},
   "source": [
    "We can use seaborn to visualize our data. \n",
    "\n",
    "### Swarm plot\n",
    "\n",
    "For example, we can draw a scatterplot where one variable is categorical called a swarmplot to show all of our measurements. We can define the x values on the plot to be the protrusion depth putting ```x=\"protrusion depth (cm)\"```, can make y be categorized by the moraine categories with ```y=\"moraine\"```, and need to specify that the dataframe is diorite_protrusions with ```data=diorite_protrusions```."
   ]
  },
  {
   "cell_type": "code",
   "execution_count": 9,
   "id": "d6d57e69-53da-4e8f-a0d3-8b9bbf4cc1d7",
   "metadata": {},
   "outputs": [
    {
     "data": {
      "image/png": "[encoded data removed]",
      "text/plain": [
       "<Figure size 640x480 with 1 Axes>"
      ]
     },
     "metadata": {},
     "output_type": "display_data"
    }
   ],
   "source": [
    "sns.swarmplot(x=\"protrusion depth (cm)\", y=\"moraine\", data=diorite_protrusions)\n",
    "plt.show()"
   ]
  },
  {
   "cell_type": "markdown",
   "id": "62ee750c-36a8-4387-82b7-ef78efaac553",
   "metadata": {},
   "source": [
    "### Box and whisker plot\n",
    "\n",
    "We can combine the swarmplot with a box and whisker plot which that shows the 25 percentile, 50 percentile (median), and 75 percentile with the box and has whiskers that show the full range."
   ]
  },
  {
   "cell_type": "code",
   "execution_count": 10,
   "id": "ae303eef-8142-4d4a-9319-509a36916e69",
   "metadata": {},
   "outputs": [
    {
     "data": {
      "image/png": "[encoded data removed]",
      "text/plain": [
       "<Figure size 640x480 with 1 Axes>"
      ]
     },
     "metadata": {},
     "output_type": "display_data"
    }
   ],
   "source": [
    "sns.boxplot(x=\"protrusion depth (cm)\", y=\"moraine\", data=diorite_protrusions,whis=[0,100])\n",
    "sns.swarmplot(x=\"protrusion depth (cm)\", y=\"moraine\", data=diorite_protrusions,color=\"black\")\n",
    "plt.show()"
   ]
  },
  {
   "cell_type": "markdown",
   "id": "eb6d7643-c823-4825-98c8-25c8c8a78ff0",
   "metadata": {},
   "source": [
    "### Histograms\n",
    "\n",
    "Alternatively, we could plot histograms of the data:"
   ]
  },
  {
   "cell_type": "code",
   "execution_count": 11,
   "id": "e5ab96a3-97b5-4de6-8a3e-288891f0feab",
   "metadata": {},
   "outputs": [
    {
     "data": {
      "image/png": "[encoded data removed]",
      "text/plain": [
       "<Figure size 640x480 with 1 Axes>"
      ]
     },
     "metadata": {},
     "output_type": "display_data"
    }
   ],
   "source": [
    "sns.histplot(data=diorite_protrusions, x=\"protrusion depth (cm)\", hue=\"moraine\", binwidth=0.5)\n",
    "plt.show()"
   ]
  },
  {
   "cell_type": "markdown",
   "id": "40523ce2-eedb-4efb-987b-60975a3391d1",
   "metadata": {},
   "source": [
    "### Kernel Density Function Visualization\n",
    "\n",
    "Or visualize the data using a kernel density function. kdeplots display information in a similar way than histograms, though a Gaussian kernel is used to produce a smoothed line corresponding to observations count:"
   ]
  },
  {
   "cell_type": "code",
   "execution_count": 12,
   "id": "45d03b7e-f74e-427f-b1cc-544acabc22e7",
   "metadata": {},
   "outputs": [
    {
     "data": {
      "image/png": "[encoded data removed]",
      "text/plain": [
       "<Figure size 640x480 with 1 Axes>"
      ]
     },
     "metadata": {},
     "output_type": "display_data"
    }
   ],
   "source": [
    "sns.kdeplot(data=diorite_protrusions, x=\"protrusion depth (cm)\", hue=\"moraine\",\n",
    "            clip=(0, None))\n",
    "plt.xlim(0,20)\n",
    "plt.show()"
   ]
  },
  {
   "cell_type": "markdown",
   "id": "93e5a88c",
   "metadata": {},
   "source": [
    "### Empirical Cumulative Distribution Plot\n",
    "\n",
    "Visualize the data using an empirical cumulative distribution function (ECDF). ECDF plots show the proportion of observations less than or equal to a particular value which provide an effective way to compare two distributions."
   ]
  },
  {
   "cell_type": "code",
   "execution_count": 13,
   "id": "a8d1a8e7",
   "metadata": {},
   "outputs": [
    {
     "data": {
      "image/png": "[encoded data removed]",
      "text/plain": [
       "<Figure size 640x480 with 1 Axes>"
      ]
     },
     "metadata": {},
     "output_type": "display_data"
    }
   ],
   "source": [
    "sns.ecdfplot(data=diorite_protrusions, x=\"protrusion depth (cm)\", hue=\"moraine\")\n",
    "plt.xlim(0,20)\n",
    "plt.show()"
   ]
  },
  {
   "cell_type": "markdown",
   "id": "c7f193af",
   "metadata": {},
   "source": [
    "## Evaluate distributions using the Kolmogorov-Smirnov (K-S) test\n",
    "\n",
    "We can evaluate the null hypothesis that the distributions are the same using the Kolmogorov-Smirnov (K-S) test. The alternative hypothesis is that the two samples come from different distributions. The test returns two values:\n",
    "\n",
    "- **K-S Statistic**: Indicates the maximum difference between the ECDFs. A higher value suggests a greater difference between the distributions.\n",
    "- **P-value**: Assesses the statistical significance of the observed difference. A low p-value (typically < 0.05) indicates that the difference between the distributions is statistically significant and unlikely to have occurred by chance.\n",
    "\n",
    "Usually the way the test is assessed is:\n",
    "- If P-value < α (significance level, typically 0.05): Reject the null hypothesis, indicating a significant difference between the distributions.\n",
    "- If P-value ≥ α: Fail to reject the null hypothesis, indicating insufficient evidence to conclude a significant difference between the distributions."
   ]
  },
  {
   "cell_type": "code",
   "execution_count": 14,
   "id": "80b7160c",
   "metadata": {},
   "outputs": [
    {
     "name": "stdout",
     "output_type": "stream",
     "text": [
      "K-S statistic: 0.55\n",
      "P-value: 1.81e-15\n"
     ]
    }
   ],
   "source": [
    "diorite_young_depth = diorite_protrusions[diorite_protrusions['moraine'] == 'younger']['protrusion depth (cm)']\n",
    "diorite_old_depth = diorite_protrusions[diorite_protrusions['moraine'] == 'older']['protrusion depth (cm)']\n",
    "\n",
    "# Perform the K-S test\n",
    "ks_stat, p_value = ks_2samp(diorite_young_depth, diorite_old_depth)\n",
    "print(f\"K-S statistic: {ks_stat:.2f}\")\n",
    "print(f\"P-value: {p_value:.2e}\")"
   ]
  },
  {
   "cell_type": "markdown",
   "id": "607aceae-7d3c-4650-bad2-92c5a26a2f81",
   "metadata": {},
   "source": [
    "## Your turn!\n",
    "\n",
    "Guided by the code examples above, visualize the clast count data. It is of interest to compare clast sizes between the two moraines. Using the 'x' dimension could be a way to do this. In the code below where we import the data, we make sure that the x dimension is the largest dimension.\n",
    "\n",
    "You can also create other visualizations such as the relative proportion of igneous vs. metasedimentary clasts."
   ]
  },
  {
   "cell_type": "code",
   "execution_count": 16,
   "id": "2572d427-7e2e-4bba-8094-6d867408a997",
   "metadata": {},
   "outputs": [],
   "source": [
    "sheet_id = '1AzWK9z--mBC0JONk-sZ0wTZwc83oNqbGtiug3i1qsG0'\n",
    "sheet_name = 'clast_counts'\n",
    "clasts_url = f'https://docs.google.com/spreadsheets/d/{sheet_id}/gviz/tq?tqx=out:csv&sheet={sheet_name}'"
   ]
  },
  {
   "cell_type": "code",
   "execution_count": 17,
   "id": "8f88ae35-a699-4a92-b4b5-8c65f46f4552",
   "metadata": {},
   "outputs": [
    {
     "data": {
      "text/html": [
       "<div>\n",
       "<style scoped>\n",
       "    .dataframe tbody tr th:only-of-type {\n",
       "        vertical-align: middle;\n",
       "    }\n",
       "\n",
       "    .dataframe tbody tr th {\n",
       "        vertical-align: top;\n",
       "    }\n",
       "\n",
       "    .dataframe thead th {\n",
       "        text-align: right;\n",
       "    }\n",
       "</style>\n",
       "<table border=\"1\" class=\"dataframe\">\n",
       "  <thead>\n",
       "    <tr style=\"text-align: right;\">\n",
       "      <th></th>\n",
       "      <th>team name</th>\n",
       "      <th>moraine</th>\n",
       "      <th>clast #</th>\n",
       "      <th>x (cm)</th>\n",
       "      <th>y (cm)</th>\n",
       "      <th>z (cm)</th>\n",
       "      <th>lithology</th>\n",
       "      <th>lithology detail</th>\n",
       "      <th>weathering notes</th>\n",
       "      <th>protrusion (yes/no)</th>\n",
       "      <th>...</th>\n",
       "      <th>Unnamed: 16</th>\n",
       "      <th>Unnamed: 17</th>\n",
       "      <th>Unnamed: 18</th>\n",
       "      <th>Unnamed: 19</th>\n",
       "      <th>Unnamed: 20</th>\n",
       "      <th>Unnamed: 21</th>\n",
       "      <th>Unnamed: 22</th>\n",
       "      <th>Unnamed: 23</th>\n",
       "      <th>Unnamed: 24</th>\n",
       "      <th>Unnamed: 25</th>\n",
       "    </tr>\n",
       "  </thead>\n",
       "  <tbody>\n",
       "    <tr>\n",
       "      <th>0</th>\n",
       "      <td>Leah</td>\n",
       "      <td>older</td>\n",
       "      <td>1</td>\n",
       "      <td>193.0</td>\n",
       "      <td>191.0</td>\n",
       "      <td>26.0</td>\n",
       "      <td>igneous</td>\n",
       "      <td>granodiorite</td>\n",
       "      <td>exfoliation weathering</td>\n",
       "      <td>no</td>\n",
       "      <td>...</td>\n",
       "      <td>NaN</td>\n",
       "      <td>NaN</td>\n",
       "      <td>NaN</td>\n",
       "      <td>NaN</td>\n",
       "      <td>NaN</td>\n",
       "      <td>NaN</td>\n",
       "      <td>NaN</td>\n",
       "      <td>NaN</td>\n",
       "      <td>NaN</td>\n",
       "      <td>NaN</td>\n",
       "    </tr>\n",
       "    <tr>\n",
       "      <th>1</th>\n",
       "      <td>Leah</td>\n",
       "      <td>older</td>\n",
       "      <td>2</td>\n",
       "      <td>0.2</td>\n",
       "      <td>0.2</td>\n",
       "      <td>0.1</td>\n",
       "      <td>igneous</td>\n",
       "      <td>granodiorite</td>\n",
       "      <td>subangular</td>\n",
       "      <td>no</td>\n",
       "      <td>...</td>\n",
       "      <td>NaN</td>\n",
       "      <td>NaN</td>\n",
       "      <td>NaN</td>\n",
       "      <td>NaN</td>\n",
       "      <td>NaN</td>\n",
       "      <td>NaN</td>\n",
       "      <td>NaN</td>\n",
       "      <td>NaN</td>\n",
       "      <td>NaN</td>\n",
       "      <td>NaN</td>\n",
       "    </tr>\n",
       "    <tr>\n",
       "      <th>2</th>\n",
       "      <td>Leah</td>\n",
       "      <td>older</td>\n",
       "      <td>3</td>\n",
       "      <td>0.4</td>\n",
       "      <td>0.2</td>\n",
       "      <td>0.2</td>\n",
       "      <td>igneous</td>\n",
       "      <td>granodiorite</td>\n",
       "      <td>angular</td>\n",
       "      <td>no</td>\n",
       "      <td>...</td>\n",
       "      <td>NaN</td>\n",
       "      <td>NaN</td>\n",
       "      <td>NaN</td>\n",
       "      <td>NaN</td>\n",
       "      <td>NaN</td>\n",
       "      <td>NaN</td>\n",
       "      <td>NaN</td>\n",
       "      <td>NaN</td>\n",
       "      <td>NaN</td>\n",
       "      <td>NaN</td>\n",
       "    </tr>\n",
       "    <tr>\n",
       "      <th>3</th>\n",
       "      <td>Leah</td>\n",
       "      <td>older</td>\n",
       "      <td>4</td>\n",
       "      <td>0.9</td>\n",
       "      <td>0.6</td>\n",
       "      <td>0.3</td>\n",
       "      <td>metasedimentary</td>\n",
       "      <td>very fine quartzite</td>\n",
       "      <td>angular</td>\n",
       "      <td>no</td>\n",
       "      <td>...</td>\n",
       "      <td>NaN</td>\n",
       "      <td>NaN</td>\n",
       "      <td>NaN</td>\n",
       "      <td>NaN</td>\n",
       "      <td>NaN</td>\n",
       "      <td>NaN</td>\n",
       "      <td>NaN</td>\n",
       "      <td>NaN</td>\n",
       "      <td>NaN</td>\n",
       "      <td>NaN</td>\n",
       "    </tr>\n",
       "    <tr>\n",
       "      <th>4</th>\n",
       "      <td>Leah</td>\n",
       "      <td>older</td>\n",
       "      <td>5</td>\n",
       "      <td>12.0</td>\n",
       "      <td>4.5</td>\n",
       "      <td>2.0</td>\n",
       "      <td>metasedimentary</td>\n",
       "      <td>slate</td>\n",
       "      <td>dark with red-brown oxidation</td>\n",
       "      <td>no</td>\n",
       "      <td>...</td>\n",
       "      <td>NaN</td>\n",
       "      <td>NaN</td>\n",
       "      <td>NaN</td>\n",
       "      <td>NaN</td>\n",
       "      <td>NaN</td>\n",
       "      <td>NaN</td>\n",
       "      <td>NaN</td>\n",
       "      <td>NaN</td>\n",
       "      <td>NaN</td>\n",
       "      <td>NaN</td>\n",
       "    </tr>\n",
       "    <tr>\n",
       "      <th>...</th>\n",
       "      <td>...</td>\n",
       "      <td>...</td>\n",
       "      <td>...</td>\n",
       "      <td>...</td>\n",
       "      <td>...</td>\n",
       "      <td>...</td>\n",
       "      <td>...</td>\n",
       "      <td>...</td>\n",
       "      <td>...</td>\n",
       "      <td>...</td>\n",
       "      <td>...</td>\n",
       "      <td>...</td>\n",
       "      <td>...</td>\n",
       "      <td>...</td>\n",
       "      <td>...</td>\n",
       "      <td>...</td>\n",
       "      <td>...</td>\n",
       "      <td>...</td>\n",
       "      <td>...</td>\n",
       "      <td>...</td>\n",
       "      <td>...</td>\n",
       "    </tr>\n",
       "    <tr>\n",
       "      <th>195</th>\n",
       "      <td>Fault</td>\n",
       "      <td>younger</td>\n",
       "      <td>46</td>\n",
       "      <td>NaN</td>\n",
       "      <td>NaN</td>\n",
       "      <td>NaN</td>\n",
       "      <td>NaN</td>\n",
       "      <td>NaN</td>\n",
       "      <td>NaN</td>\n",
       "      <td>NaN</td>\n",
       "      <td>...</td>\n",
       "      <td>NaN</td>\n",
       "      <td>NaN</td>\n",
       "      <td>NaN</td>\n",
       "      <td>NaN</td>\n",
       "      <td>NaN</td>\n",
       "      <td>NaN</td>\n",
       "      <td>NaN</td>\n",
       "      <td>NaN</td>\n",
       "      <td>NaN</td>\n",
       "      <td>NaN</td>\n",
       "    </tr>\n",
       "    <tr>\n",
       "      <th>196</th>\n",
       "      <td>Fault</td>\n",
       "      <td>younger</td>\n",
       "      <td>47</td>\n",
       "      <td>NaN</td>\n",
       "      <td>NaN</td>\n",
       "      <td>NaN</td>\n",
       "      <td>NaN</td>\n",
       "      <td>NaN</td>\n",
       "      <td>NaN</td>\n",
       "      <td>NaN</td>\n",
       "      <td>...</td>\n",
       "      <td>NaN</td>\n",
       "      <td>NaN</td>\n",
       "      <td>NaN</td>\n",
       "      <td>NaN</td>\n",
       "      <td>NaN</td>\n",
       "      <td>NaN</td>\n",
       "      <td>NaN</td>\n",
       "      <td>NaN</td>\n",
       "      <td>NaN</td>\n",
       "      <td>NaN</td>\n",
       "    </tr>\n",
       "    <tr>\n",
       "      <th>197</th>\n",
       "      <td>Fault</td>\n",
       "      <td>younger</td>\n",
       "      <td>48</td>\n",
       "      <td>NaN</td>\n",
       "      <td>NaN</td>\n",
       "      <td>NaN</td>\n",
       "      <td>NaN</td>\n",
       "      <td>NaN</td>\n",
       "      <td>NaN</td>\n",
       "      <td>NaN</td>\n",
       "      <td>...</td>\n",
       "      <td>NaN</td>\n",
       "      <td>NaN</td>\n",
       "      <td>NaN</td>\n",
       "      <td>NaN</td>\n",
       "      <td>NaN</td>\n",
       "      <td>NaN</td>\n",
       "      <td>NaN</td>\n",
       "      <td>NaN</td>\n",
       "      <td>NaN</td>\n",
       "      <td>NaN</td>\n",
       "    </tr>\n",
       "    <tr>\n",
       "      <th>198</th>\n",
       "      <td>Fault</td>\n",
       "      <td>younger</td>\n",
       "      <td>49</td>\n",
       "      <td>NaN</td>\n",
       "      <td>NaN</td>\n",
       "      <td>NaN</td>\n",
       "      <td>NaN</td>\n",
       "      <td>NaN</td>\n",
       "      <td>NaN</td>\n",
       "      <td>NaN</td>\n",
       "      <td>...</td>\n",
       "      <td>NaN</td>\n",
       "      <td>NaN</td>\n",
       "      <td>NaN</td>\n",
       "      <td>NaN</td>\n",
       "      <td>NaN</td>\n",
       "      <td>NaN</td>\n",
       "      <td>NaN</td>\n",
       "      <td>NaN</td>\n",
       "      <td>NaN</td>\n",
       "      <td>NaN</td>\n",
       "    </tr>\n",
       "    <tr>\n",
       "      <th>199</th>\n",
       "      <td>Fault</td>\n",
       "      <td>younger</td>\n",
       "      <td>50</td>\n",
       "      <td>NaN</td>\n",
       "      <td>NaN</td>\n",
       "      <td>NaN</td>\n",
       "      <td>NaN</td>\n",
       "      <td>NaN</td>\n",
       "      <td>NaN</td>\n",
       "      <td>NaN</td>\n",
       "      <td>...</td>\n",
       "      <td>NaN</td>\n",
       "      <td>NaN</td>\n",
       "      <td>NaN</td>\n",
       "      <td>NaN</td>\n",
       "      <td>NaN</td>\n",
       "      <td>NaN</td>\n",
       "      <td>NaN</td>\n",
       "      <td>NaN</td>\n",
       "      <td>NaN</td>\n",
       "      <td>NaN</td>\n",
       "    </tr>\n",
       "  </tbody>\n",
       "</table>\n",
       "<p>200 rows × 26 columns</p>\n",
       "</div>"
      ],
      "text/plain": [
       "    team name  moraine  clast #  x (cm)  y (cm)  z (cm)        lithology  \\\n",
       "0        Leah    older        1   193.0   191.0    26.0          igneous   \n",
       "1        Leah    older        2     0.2     0.2     0.1          igneous   \n",
       "2        Leah    older        3     0.4     0.2     0.2          igneous   \n",
       "3        Leah    older        4     0.9     0.6     0.3  metasedimentary   \n",
       "4        Leah    older        5    12.0     4.5     2.0  metasedimentary   \n",
       "..        ...      ...      ...     ...     ...     ...              ...   \n",
       "195    Fault   younger       46     NaN     NaN     NaN              NaN   \n",
       "196    Fault   younger       47     NaN     NaN     NaN              NaN   \n",
       "197    Fault   younger       48     NaN     NaN     NaN              NaN   \n",
       "198    Fault   younger       49     NaN     NaN     NaN              NaN   \n",
       "199    Fault   younger       50     NaN     NaN     NaN              NaN   \n",
       "\n",
       "        lithology detail               weathering notes protrusion (yes/no)  \\\n",
       "0           granodiorite         exfoliation weathering                  no   \n",
       "1           granodiorite                     subangular                  no   \n",
       "2           granodiorite                        angular                  no   \n",
       "3    very fine quartzite                        angular                  no   \n",
       "4                  slate  dark with red-brown oxidation                  no   \n",
       "..                   ...                            ...                 ...   \n",
       "195                  NaN                            NaN                 NaN   \n",
       "196                  NaN                            NaN                 NaN   \n",
       "197                  NaN                            NaN                 NaN   \n",
       "198                  NaN                            NaN                 NaN   \n",
       "199                  NaN                            NaN                 NaN   \n",
       "\n",
       "     ...  Unnamed: 16  Unnamed: 17  Unnamed: 18  Unnamed: 19  Unnamed: 20  \\\n",
       "0    ...          NaN          NaN          NaN          NaN          NaN   \n",
       "1    ...          NaN          NaN          NaN          NaN          NaN   \n",
       "2    ...          NaN          NaN          NaN          NaN          NaN   \n",
       "3    ...          NaN          NaN          NaN          NaN          NaN   \n",
       "4    ...          NaN          NaN          NaN          NaN          NaN   \n",
       "..   ...          ...          ...          ...          ...          ...   \n",
       "195  ...          NaN          NaN          NaN          NaN          NaN   \n",
       "196  ...          NaN          NaN          NaN          NaN          NaN   \n",
       "197  ...          NaN          NaN          NaN          NaN          NaN   \n",
       "198  ...          NaN          NaN          NaN          NaN          NaN   \n",
       "199  ...          NaN          NaN          NaN          NaN          NaN   \n",
       "\n",
       "     Unnamed: 21  Unnamed: 22  Unnamed: 23  Unnamed: 24  Unnamed: 25  \n",
       "0            NaN          NaN          NaN          NaN          NaN  \n",
       "1            NaN          NaN          NaN          NaN          NaN  \n",
       "2            NaN          NaN          NaN          NaN          NaN  \n",
       "3            NaN          NaN          NaN          NaN          NaN  \n",
       "4            NaN          NaN          NaN          NaN          NaN  \n",
       "..           ...          ...          ...          ...          ...  \n",
       "195          NaN          NaN          NaN          NaN          NaN  \n",
       "196          NaN          NaN          NaN          NaN          NaN  \n",
       "197          NaN          NaN          NaN          NaN          NaN  \n",
       "198          NaN          NaN          NaN          NaN          NaN  \n",
       "199          NaN          NaN          NaN          NaN          NaN  \n",
       "\n",
       "[200 rows x 26 columns]"
      ]
     },
     "execution_count": 17,
     "metadata": {},
     "output_type": "execute_result"
    }
   ],
   "source": [
    "combined_clasts = pd.read_csv(clasts_url)\n",
    "combined_clasts\n",
    "\n",
    "for n in combined_clasts.index:\n",
    "    if combined_clasts['x (cm)'][n]<combined_clasts['y (cm)'][n]:\n",
    "        combined_clasts['x (cm)'][n] = combined_clasts['y (cm)'][n]\n",
    "        combined_clasts['y (cm)'][n] = combined_clasts['x (cm)'][n]\n",
    "combined_clasts"
   ]
  },
  {
   "cell_type": "code",
   "execution_count": null,
   "id": "3590770a-01aa-480e-95b5-284edf863668",
   "metadata": {},
   "outputs": [],
   "source": []
  }
 ],
 "metadata": {
  "kernelspec": {
   "display_name": "Python 3 (ipykernel)",
   "language": "python",
   "name": "python3"
  },
  "language_info": {
   "codemirror_mode": {
    "name": "ipython",
    "version": 3
   },
   "file_extension": ".py",
   "mimetype": "text/x-python",
   "name": "python",
   "nbconvert_exporter": "python",
   "pygments_lexer": "ipython3",
   "version": "3.9.13"
  }
 },
 "nbformat": 4,
 "nbformat_minor": 5
}
