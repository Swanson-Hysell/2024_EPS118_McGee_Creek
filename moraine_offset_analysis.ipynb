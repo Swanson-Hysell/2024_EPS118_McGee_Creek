{
 "cells": [
  {
   "cell_type": "markdown",
   "metadata": {},
   "source": [
    "# Determine horizontal offset of moraine due to dip slip\n",
    "\n",
    "The moraine crest intersects the fault plane at an oblique angle. As a result, offset on an inclined plane will offset it horizontally in addition to vertically.\n",
    "\n",
    "We can take the following approach:\n",
    "\n",
    "<div style=\"text-align: center;\">\n",
    "    <img src=\"images/moraine_offset_approach.png\" alt=\"Moraine offset calculation\" style=\"max-width: 100%; height: auto;\">\n",
    "</div>"
   ]
  },
  {
   "cell_type": "code",
   "execution_count": 3,
   "metadata": {},
   "outputs": [],
   "source": [
    "import numpy as np"
   ]
  },
  {
   "cell_type": "markdown",
   "metadata": {},
   "source": [
    "## Set the parameters"
   ]
  },
  {
   "cell_type": "code",
   "execution_count": 10,
   "metadata": {},
   "outputs": [],
   "source": [
    "fault_dip_direction = 70\n",
    "fault_strike = (fault_dip_direction-90)%360\n",
    "fault_dip = 50\n",
    "dip_slip = 33\n",
    "\n",
    "moraine_trend = 32"
   ]
  },
  {
   "cell_type": "markdown",
   "metadata": {},
   "source": [
    "## Determine the trend/plunge of the moraine line on the fault plane\n",
    "\n",
    "The trend of the moraine is its map view angle.\n",
    "The plunge can be calculated using the equation for apparent dip:\n",
    "\n",
    "$\\tan(\\text{Apparent Dip}) = \\sin(\\text{Strike Difference}) \\times \\tan(\\text{True Dip})$\n",
    "> Addie (1968) https://doi.org/10.2113/gsecongeo.63.2.188"
   ]
  },
  {
   "cell_type": "code",
   "execution_count": 11,
   "metadata": {},
   "outputs": [],
   "source": [
    "strike_difference = fault_dip_direction - moraine_trend + 90\n",
    "apparent_dip = np.rad2deg(np.arctan(np.sin(np.deg2rad(strike_difference)) * np.tan(np.deg2rad(fault_dip))))\n",
    "\n",
    "moraine_trend = moraine_trend\n",
    "moraine_plunge = apparent_dip"
   ]
  },
  {
   "cell_type": "markdown",
   "metadata": {},
   "source": [
    "## Calculate the rake from the trend plunge and the strike line\n",
    "\n",
    "We can use the approach illustrated below:\n",
    "\n",
    "<div style=\"text-align: center;\">\n",
    "    <img src=\"images/rake_calculation.png\" alt=\"Rake Calculation\" style=\"max-width: 100%; height: auto;\">\n",
    "    <p><em>Image from <a href=\"https://cdn.serc.carleton.edu/files/NAGTWorkshops/structure/SGT2012/activities/student_background_reading_ste.doc\">this NAGT workshop document</a>.</em></p>\n",
    "</div>"
   ]
  },
  {
   "cell_type": "code",
   "execution_count": 12,
   "metadata": {},
   "outputs": [],
   "source": [
    "def trend_plunge_to_xyz(trend, plunge):\n",
    "    \"\"\"\n",
    "    Convert trend and plunge angles to Cartesian coordinates (x, y, z).\n",
    "\n",
    "    Parameters:\n",
    "    trend (float): Trend angle in degrees.\n",
    "    plunge (float): Plunge angle in degrees.\n",
    "\n",
    "    Returns:\n",
    "    tuple: Cartesian coordinates (x, y, z).\n",
    "    \"\"\"\n",
    "    # Convert angles from degrees to radians\n",
    "    trend_rad = np.radians(trend)\n",
    "    plunge_rad = np.radians(plunge)\n",
    "    \n",
    "    # Calculate Cartesian coordinates\n",
    "    x = np.cos(plunge_rad) * np.cos(trend_rad)\n",
    "    y = np.cos(plunge_rad) * np.sin(trend_rad)\n",
    "    z = np.sin(plunge_rad)\n",
    "    \n",
    "    return x, y, z"
   ]
  },
  {
   "cell_type": "code",
   "execution_count": 13,
   "metadata": {},
   "outputs": [],
   "source": [
    "moraine_x, moraine_y, moraine_z = trend_plunge_to_xyz(moraine_trend, moraine_plunge)\n",
    "strike_x, strike_y, strike_z = trend_plunge_to_xyz(fault_strike, 0)\n",
    "\n",
    "rake = np.rad2deg(np.arccos(moraine_x*strike_x + moraine_y*strike_y + moraine_z*strike_z))"
   ]
  },
  {
   "cell_type": "markdown",
   "metadata": {},
   "source": [
    "## Use rake and dip slip offset to calculate moraine offset"
   ]
  },
  {
   "cell_type": "code",
   "execution_count": 14,
   "metadata": {},
   "outputs": [
    {
     "data": {
      "text/plain": [
       "16.572623771375206"
      ]
     },
     "execution_count": 14,
     "metadata": {},
     "output_type": "execute_result"
    }
   ],
   "source": [
    "x_offset = dip_slip*np.tan(np.deg2rad(90-rake))\n",
    "x_offset"
   ]
  },
  {
   "cell_type": "code",
   "execution_count": 15,
   "metadata": {},
   "outputs": [
    {
     "name": "stdout",
     "output_type": "stream",
     "text": [
      "Moraine offset: 16.6 m\n"
     ]
    }
   ],
   "source": [
    "print(\"Moraine offset: {:.1f} m\".format(x_offset))"
   ]
  },
  {
   "cell_type": "code",
   "execution_count": null,
   "metadata": {},
   "outputs": [],
   "source": []
  }
 ],
 "metadata": {
  "kernelspec": {
   "display_name": "base",
   "language": "python",
   "name": "python3"
  },
  "language_info": {
   "codemirror_mode": {
    "name": "ipython",
    "version": 3
   },
   "file_extension": ".py",
   "mimetype": "text/x-python",
   "name": "python",
   "nbconvert_exporter": "python",
   "pygments_lexer": "ipython3",
   "version": "3.9.13"
  }
 },
 "nbformat": 4,
 "nbformat_minor": 2
}
